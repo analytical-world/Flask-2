{
 "cells": [
  {
   "cell_type": "markdown",
   "id": "dffdfd43-75e3-413f-ba3c-c8b0a095495e",
   "metadata": {},
   "source": [
    "Q1. Explain GET and POST methods."
   ]
  },
  {
   "cell_type": "markdown",
   "id": "fe381823-2b03-489b-9c1e-4ecdacdae18f",
   "metadata": {},
   "source": [
    "Sol: GET: This method is used to retrieve data from the server. This request is used when the data is not sensitive.\n",
    "    POST: This method is enables user to send data to server whithout without disclosing the credentials unlike get method."
   ]
  },
  {
   "cell_type": "markdown",
   "id": "498478bd-94e2-45c8-a0c4-378cf2e04060",
   "metadata": {},
   "source": [
    "Q2. Why is request used in Flask?"
   ]
  },
  {
   "cell_type": "markdown",
   "id": "93e41656-b468-47f3-b75d-cb8ad85e023b",
   "metadata": {},
   "source": [
    "sol: The Request, in Flask, is an object that contains all the data sent from the Client to Server. This data can be recovered using the GET/POST Methods. "
   ]
  },
  {
   "cell_type": "markdown",
   "id": "5e1ed85d-6b79-4b89-9643-c79c79e9d820",
   "metadata": {},
   "source": [
    "Q3. Why is redirect() used in Flask?"
   ]
  },
  {
   "cell_type": "markdown",
   "id": "88a2dc09-be52-4dbd-8a7d-c6e267fbc742",
   "metadata": {},
   "source": [
    "sol: Flask redirect is defined as a function or utility in Flask which allows developers to redirect users to a specified URL and assign a specified status code. "
   ]
  },
  {
   "cell_type": "markdown",
   "id": "cce88745-b26f-4087-bab2-4eceaf23d7d5",
   "metadata": {},
   "source": [
    "Q4. What are templates in Flask? Why is the render_template() function used?"
   ]
  },
  {
   "cell_type": "markdown",
   "id": "2dd6c68e-c8f2-4c39-960c-929274a7731b",
   "metadata": {},
   "source": [
    "sol: Flask facilitates us to render the external HTML file instead of hardcoding the HTML in the view function. Here, we can take advantage of the jinja2 template engine on which the flask is based.  \n",
    "\n",
    "render_template() function can be used to render the external HTML file to be returned as the response from the view function. "
   ]
  },
  {
   "cell_type": "markdown",
   "id": "c9af3ff5-afaa-4068-a80f-fb9491db163f",
   "metadata": {},
   "source": [
    "Q5. Create a simple API. Use Postman to test it. Attach the screenshot of the output in the Jupyter Notebook."
   ]
  },
  {
   "cell_type": "code",
   "execution_count": null,
   "id": "883bd121-6c22-4fc7-85cd-c066a5b890c0",
   "metadata": {},
   "outputs": [],
   "source": [
    "from flask import Flask\n",
    "\n",
    "app = Flask(__name__)\n",
    "\n",
    "@app.route(\"/\")\n",
    "def index():\n",
    "    return {'Hello': 'This is an assignment API.'}\n",
    "\n",
    "\n",
    "@app.route('/welcome')\n",
    "def welcome():\n",
    "    return {\n",
    "        'Name': 'Ritik Dwivedi',\n",
    "        'Age': 22,\n",
    "        'Learning': ['Python', 'Pandas', 'Numpy']\n",
    "    }\n",
    "\n",
    "if __name__==\"__main__\":\n",
    "    app.run(host=\"0.0.0.0\")\n"
   ]
  }
 ],
 "metadata": {
  "kernelspec": {
   "display_name": "Python 3 (ipykernel)",
   "language": "python",
   "name": "python3"
  },
  "language_info": {
   "codemirror_mode": {
    "name": "ipython",
    "version": 3
   },
   "file_extension": ".py",
   "mimetype": "text/x-python",
   "name": "python",
   "nbconvert_exporter": "python",
   "pygments_lexer": "ipython3",
   "version": "3.10.8"
  }
 },
 "nbformat": 4,
 "nbformat_minor": 5
}
